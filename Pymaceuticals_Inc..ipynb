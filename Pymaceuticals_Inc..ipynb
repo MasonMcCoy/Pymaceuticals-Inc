{
 "cells": [
  {
   "cell_type": "code",
   "execution_count": 1,
   "metadata": {},
   "outputs": [],
   "source": [
    "#dependencies\n",
    "import pandas as pd\n",
    "import matplotlib.pyplot as plt\n",
    "import scipy.stats as st\n",
    "import numpy as np\n",
    "\n",
    "#import data\n",
    "meta_data_path = r'C:\\Users\\Mason\\nu-chi-data-pt-09-2020-u-c\\05-Matplotlib\\HW\\Instructions\\Pymaceuticals\\data\\Mouse_metadata.csv'\n",
    "results_path = r'C:\\Users\\Mason\\nu-chi-data-pt-09-2020-u-c\\05-Matplotlib\\HW\\Instructions\\Pymaceuticals\\data\\Study_results.csv'\n",
    "\n",
    "meta_data = pd.read_csv(meta_data_path)\n",
    "results = pd.read_csv(results_path)\n",
    "\n",
    "meta_dataDF = pd.DataFrame(meta_data)\n",
    "resultsDF = pd.DataFrame(results)"
   ]
  },
  {
   "cell_type": "code",
   "execution_count": 2,
   "metadata": {},
   "outputs": [
    {
     "data": {
      "text/html": [
       "<div>\n",
       "<style scoped>\n",
       "    .dataframe tbody tr th:only-of-type {\n",
       "        vertical-align: middle;\n",
       "    }\n",
       "\n",
       "    .dataframe tbody tr th {\n",
       "        vertical-align: top;\n",
       "    }\n",
       "\n",
       "    .dataframe thead th {\n",
       "        text-align: right;\n",
       "    }\n",
       "</style>\n",
       "<table border=\"1\" class=\"dataframe\">\n",
       "  <thead>\n",
       "    <tr style=\"text-align: right;\">\n",
       "      <th></th>\n",
       "      <th>Mouse ID</th>\n",
       "      <th>Timepoint</th>\n",
       "      <th>Tumor Volume (mm3)</th>\n",
       "      <th>Metastatic Sites</th>\n",
       "    </tr>\n",
       "  </thead>\n",
       "  <tbody>\n",
       "    <tr>\n",
       "      <th>0</th>\n",
       "      <td>b128</td>\n",
       "      <td>0</td>\n",
       "      <td>45.000000</td>\n",
       "      <td>0</td>\n",
       "    </tr>\n",
       "    <tr>\n",
       "      <th>1</th>\n",
       "      <td>f932</td>\n",
       "      <td>0</td>\n",
       "      <td>45.000000</td>\n",
       "      <td>0</td>\n",
       "    </tr>\n",
       "    <tr>\n",
       "      <th>2</th>\n",
       "      <td>g107</td>\n",
       "      <td>0</td>\n",
       "      <td>45.000000</td>\n",
       "      <td>0</td>\n",
       "    </tr>\n",
       "    <tr>\n",
       "      <th>3</th>\n",
       "      <td>a457</td>\n",
       "      <td>0</td>\n",
       "      <td>45.000000</td>\n",
       "      <td>0</td>\n",
       "    </tr>\n",
       "    <tr>\n",
       "      <th>4</th>\n",
       "      <td>c819</td>\n",
       "      <td>0</td>\n",
       "      <td>45.000000</td>\n",
       "      <td>0</td>\n",
       "    </tr>\n",
       "    <tr>\n",
       "      <th>...</th>\n",
       "      <td>...</td>\n",
       "      <td>...</td>\n",
       "      <td>...</td>\n",
       "      <td>...</td>\n",
       "    </tr>\n",
       "    <tr>\n",
       "      <th>1888</th>\n",
       "      <td>r944</td>\n",
       "      <td>45</td>\n",
       "      <td>41.581521</td>\n",
       "      <td>2</td>\n",
       "    </tr>\n",
       "    <tr>\n",
       "      <th>1889</th>\n",
       "      <td>u364</td>\n",
       "      <td>45</td>\n",
       "      <td>31.023923</td>\n",
       "      <td>3</td>\n",
       "    </tr>\n",
       "    <tr>\n",
       "      <th>1890</th>\n",
       "      <td>p438</td>\n",
       "      <td>45</td>\n",
       "      <td>61.433892</td>\n",
       "      <td>1</td>\n",
       "    </tr>\n",
       "    <tr>\n",
       "      <th>1891</th>\n",
       "      <td>x773</td>\n",
       "      <td>45</td>\n",
       "      <td>58.634971</td>\n",
       "      <td>4</td>\n",
       "    </tr>\n",
       "    <tr>\n",
       "      <th>1892</th>\n",
       "      <td>b879</td>\n",
       "      <td>45</td>\n",
       "      <td>72.555239</td>\n",
       "      <td>2</td>\n",
       "    </tr>\n",
       "  </tbody>\n",
       "</table>\n",
       "<p>1883 rows × 4 columns</p>\n",
       "</div>"
      ],
      "text/plain": [
       "     Mouse ID  Timepoint  Tumor Volume (mm3)  Metastatic Sites\n",
       "0        b128          0           45.000000                 0\n",
       "1        f932          0           45.000000                 0\n",
       "2        g107          0           45.000000                 0\n",
       "3        a457          0           45.000000                 0\n",
       "4        c819          0           45.000000                 0\n",
       "...       ...        ...                 ...               ...\n",
       "1888     r944         45           41.581521                 2\n",
       "1889     u364         45           31.023923                 3\n",
       "1890     p438         45           61.433892                 1\n",
       "1891     x773         45           58.634971                 4\n",
       "1892     b879         45           72.555239                 2\n",
       "\n",
       "[1883 rows x 4 columns]"
      ]
     },
     "execution_count": 2,
     "metadata": {},
     "output_type": "execute_result"
    }
   ],
   "source": [
    "#clean data by removing entries with duplicate timepoints\n",
    "cleaned_resultsDF = resultsDF\n",
    "cleaned_resultsDF['Duplicate'] = cleaned_resultsDF.duplicated(['Mouse ID', 'Timepoint'], keep = False)\n",
    "\n",
    "cleaned_resultsDF = cleaned_resultsDF[~cleaned_resultsDF.Duplicate]\n",
    "\n",
    "del cleaned_resultsDF['Duplicate']\n",
    "cleaned_resultsDF"
   ]
  },
  {
   "cell_type": "code",
   "execution_count": 3,
   "metadata": {},
   "outputs": [
    {
     "data": {
      "text/html": [
       "<div>\n",
       "<style scoped>\n",
       "    .dataframe tbody tr th:only-of-type {\n",
       "        vertical-align: middle;\n",
       "    }\n",
       "\n",
       "    .dataframe tbody tr th {\n",
       "        vertical-align: top;\n",
       "    }\n",
       "\n",
       "    .dataframe thead th {\n",
       "        text-align: right;\n",
       "    }\n",
       "</style>\n",
       "<table border=\"1\" class=\"dataframe\">\n",
       "  <thead>\n",
       "    <tr style=\"text-align: right;\">\n",
       "      <th></th>\n",
       "      <th>Tumor Volume (mm3)</th>\n",
       "      <th>Drug Regimen</th>\n",
       "    </tr>\n",
       "  </thead>\n",
       "  <tbody>\n",
       "    <tr>\n",
       "      <th>0</th>\n",
       "      <td>45.000000</td>\n",
       "      <td>Capomulin</td>\n",
       "    </tr>\n",
       "    <tr>\n",
       "      <th>1</th>\n",
       "      <td>45.651331</td>\n",
       "      <td>Capomulin</td>\n",
       "    </tr>\n",
       "    <tr>\n",
       "      <th>2</th>\n",
       "      <td>43.270852</td>\n",
       "      <td>Capomulin</td>\n",
       "    </tr>\n",
       "    <tr>\n",
       "      <th>3</th>\n",
       "      <td>43.784893</td>\n",
       "      <td>Capomulin</td>\n",
       "    </tr>\n",
       "    <tr>\n",
       "      <th>4</th>\n",
       "      <td>42.731552</td>\n",
       "      <td>Capomulin</td>\n",
       "    </tr>\n",
       "    <tr>\n",
       "      <th>...</th>\n",
       "      <td>...</td>\n",
       "      <td>...</td>\n",
       "    </tr>\n",
       "    <tr>\n",
       "      <th>1878</th>\n",
       "      <td>31.378045</td>\n",
       "      <td>Capomulin</td>\n",
       "    </tr>\n",
       "    <tr>\n",
       "      <th>1879</th>\n",
       "      <td>28.430964</td>\n",
       "      <td>Capomulin</td>\n",
       "    </tr>\n",
       "    <tr>\n",
       "      <th>1880</th>\n",
       "      <td>56.045564</td>\n",
       "      <td>Propriva</td>\n",
       "    </tr>\n",
       "    <tr>\n",
       "      <th>1881</th>\n",
       "      <td>59.082294</td>\n",
       "      <td>Propriva</td>\n",
       "    </tr>\n",
       "    <tr>\n",
       "      <th>1882</th>\n",
       "      <td>62.570880</td>\n",
       "      <td>Propriva</td>\n",
       "    </tr>\n",
       "  </tbody>\n",
       "</table>\n",
       "<p>1883 rows × 2 columns</p>\n",
       "</div>"
      ],
      "text/plain": [
       "      Tumor Volume (mm3) Drug Regimen\n",
       "0              45.000000    Capomulin\n",
       "1              45.651331    Capomulin\n",
       "2              43.270852    Capomulin\n",
       "3              43.784893    Capomulin\n",
       "4              42.731552    Capomulin\n",
       "...                  ...          ...\n",
       "1878           31.378045    Capomulin\n",
       "1879           28.430964    Capomulin\n",
       "1880           56.045564     Propriva\n",
       "1881           59.082294     Propriva\n",
       "1882           62.570880     Propriva\n",
       "\n",
       "[1883 rows x 2 columns]"
      ]
     },
     "execution_count": 3,
     "metadata": {},
     "output_type": "execute_result"
    }
   ],
   "source": [
    "#merge CSV files\n",
    "merged_data = cleaned_resultsDF.merge(right = meta_dataDF, how = 'inner', on = 'Mouse ID')\n",
    "\n",
    "tumor_data = merged_data.drop(['Mouse ID', 'Timepoint', 'Metastatic Sites', 'Age_months', 'Sex', 'Weight (g)'], axis = 1)\n",
    "tumor_data"
   ]
  },
  {
   "cell_type": "code",
   "execution_count": 4,
   "metadata": {},
   "outputs": [
    {
     "data": {
      "text/html": [
       "<div>\n",
       "<style scoped>\n",
       "    .dataframe tbody tr th:only-of-type {\n",
       "        vertical-align: middle;\n",
       "    }\n",
       "\n",
       "    .dataframe tbody tr th {\n",
       "        vertical-align: top;\n",
       "    }\n",
       "\n",
       "    .dataframe thead th {\n",
       "        text-align: right;\n",
       "    }\n",
       "</style>\n",
       "<table border=\"1\" class=\"dataframe\">\n",
       "  <thead>\n",
       "    <tr style=\"text-align: right;\">\n",
       "      <th></th>\n",
       "      <th>Mean</th>\n",
       "      <th>Median</th>\n",
       "      <th>Variance</th>\n",
       "      <th>Standard Deviation</th>\n",
       "      <th>Standard Error of Mean</th>\n",
       "    </tr>\n",
       "    <tr>\n",
       "      <th>Drug Regimen</th>\n",
       "      <th></th>\n",
       "      <th></th>\n",
       "      <th></th>\n",
       "      <th></th>\n",
       "      <th></th>\n",
       "    </tr>\n",
       "  </thead>\n",
       "  <tbody>\n",
       "    <tr>\n",
       "      <th>Capomulin</th>\n",
       "      <td>40.675741</td>\n",
       "      <td>41.557809</td>\n",
       "      <td>24.947764</td>\n",
       "      <td>4.994774</td>\n",
       "      <td>0.329346</td>\n",
       "    </tr>\n",
       "    <tr>\n",
       "      <th>Ceftamin</th>\n",
       "      <td>52.591172</td>\n",
       "      <td>51.776157</td>\n",
       "      <td>39.290177</td>\n",
       "      <td>6.268188</td>\n",
       "      <td>0.469821</td>\n",
       "    </tr>\n",
       "    <tr>\n",
       "      <th>Infubinol</th>\n",
       "      <td>52.884795</td>\n",
       "      <td>51.820584</td>\n",
       "      <td>43.128684</td>\n",
       "      <td>6.567243</td>\n",
       "      <td>0.492236</td>\n",
       "    </tr>\n",
       "    <tr>\n",
       "      <th>Ketapril</th>\n",
       "      <td>55.235638</td>\n",
       "      <td>53.698743</td>\n",
       "      <td>68.553577</td>\n",
       "      <td>8.279709</td>\n",
       "      <td>0.603860</td>\n",
       "    </tr>\n",
       "    <tr>\n",
       "      <th>Naftisol</th>\n",
       "      <td>54.331565</td>\n",
       "      <td>52.509285</td>\n",
       "      <td>66.173479</td>\n",
       "      <td>8.134708</td>\n",
       "      <td>0.596466</td>\n",
       "    </tr>\n",
       "    <tr>\n",
       "      <th>Placebo</th>\n",
       "      <td>54.033581</td>\n",
       "      <td>52.288934</td>\n",
       "      <td>61.168083</td>\n",
       "      <td>7.821003</td>\n",
       "      <td>0.581331</td>\n",
       "    </tr>\n",
       "    <tr>\n",
       "      <th>Propriva</th>\n",
       "      <td>52.458254</td>\n",
       "      <td>50.854632</td>\n",
       "      <td>44.053659</td>\n",
       "      <td>6.637293</td>\n",
       "      <td>0.540135</td>\n",
       "    </tr>\n",
       "    <tr>\n",
       "      <th>Ramicane</th>\n",
       "      <td>40.216745</td>\n",
       "      <td>40.673236</td>\n",
       "      <td>23.486704</td>\n",
       "      <td>4.846308</td>\n",
       "      <td>0.320955</td>\n",
       "    </tr>\n",
       "    <tr>\n",
       "      <th>Stelasyn</th>\n",
       "      <td>54.233149</td>\n",
       "      <td>52.431737</td>\n",
       "      <td>59.450562</td>\n",
       "      <td>7.710419</td>\n",
       "      <td>0.573111</td>\n",
       "    </tr>\n",
       "    <tr>\n",
       "      <th>Zoniferol</th>\n",
       "      <td>53.236507</td>\n",
       "      <td>51.818479</td>\n",
       "      <td>48.533355</td>\n",
       "      <td>6.966589</td>\n",
       "      <td>0.516398</td>\n",
       "    </tr>\n",
       "  </tbody>\n",
       "</table>\n",
       "</div>"
      ],
      "text/plain": [
       "                   Mean     Median   Variance  Standard Deviation  \\\n",
       "Drug Regimen                                                        \n",
       "Capomulin     40.675741  41.557809  24.947764            4.994774   \n",
       "Ceftamin      52.591172  51.776157  39.290177            6.268188   \n",
       "Infubinol     52.884795  51.820584  43.128684            6.567243   \n",
       "Ketapril      55.235638  53.698743  68.553577            8.279709   \n",
       "Naftisol      54.331565  52.509285  66.173479            8.134708   \n",
       "Placebo       54.033581  52.288934  61.168083            7.821003   \n",
       "Propriva      52.458254  50.854632  44.053659            6.637293   \n",
       "Ramicane      40.216745  40.673236  23.486704            4.846308   \n",
       "Stelasyn      54.233149  52.431737  59.450562            7.710419   \n",
       "Zoniferol     53.236507  51.818479  48.533355            6.966589   \n",
       "\n",
       "              Standard Error of Mean  \n",
       "Drug Regimen                          \n",
       "Capomulin                   0.329346  \n",
       "Ceftamin                    0.469821  \n",
       "Infubinol                   0.492236  \n",
       "Ketapril                    0.603860  \n",
       "Naftisol                    0.596466  \n",
       "Placebo                     0.581331  \n",
       "Propriva                    0.540135  \n",
       "Ramicane                    0.320955  \n",
       "Stelasyn                    0.573111  \n",
       "Zoniferol                   0.516398  "
      ]
     },
     "execution_count": 4,
     "metadata": {},
     "output_type": "execute_result"
    }
   ],
   "source": [
    "#summary stat table including mean, median, variance, standard deviation, and Std Error of Mean for Tumor Volume\n",
    "meanDF = tumor_data.groupby('Drug Regimen').mean()\n",
    "medianDF = tumor_data.groupby('Drug Regimen').median()\n",
    "varianceDF = tumor_data.groupby('Drug Regimen').var()\n",
    "stddevDF = tumor_data.groupby('Drug Regimen').std()\n",
    "stderrorDF = tumor_data.groupby('Drug Regimen').sem()\n",
    "\n",
    "regimen_data = meanDF.merge(right = medianDF, how = 'inner', on = 'Drug Regimen')\n",
    "regimen_data = regimen_data.merge(right = varianceDF, how = 'inner', on = 'Drug Regimen')\n",
    "regimen_data = regimen_data.merge(right = stddevDF, how = 'inner', on = 'Drug Regimen')\n",
    "regimen_data = regimen_data.merge(right = stderrorDF, how = 'inner', on = 'Drug Regimen')\n",
    "regimen_data.columns = ['Mean', 'Median', 'Variance', 'Standard Deviation', 'Standard Error of Mean']\n",
    "regimen_data"
   ]
  },
  {
   "cell_type": "code",
   "execution_count": 27,
   "metadata": {},
   "outputs": [
    {
     "data": {
      "text/plain": [
       "(0.0, 250.0)"
      ]
     },
     "execution_count": 27,
     "metadata": {},
     "output_type": "execute_result"
    },
    {
     "data": {
      "image/png": "[encoded data removed]",
      "text/plain": [
       "<Figure size 432x288 with 1 Axes>"
      ]
     },
     "metadata": {
      "needs_background": "light"
     },
     "output_type": "display_data"
    }
   ],
   "source": [
    "#finding number of mice for each drug regimen\n",
    "mouse_data = merged_data.drop(['Tumor Volume (mm3)', 'Timepoint', 'Metastatic Sites', 'Age_months', 'Sex', 'Weight (g)'], axis = 1)\n",
    "mouse_data = mouse_data.groupby('Drug Regimen').count()\n",
    "mouse_data\n",
    "\n",
    "#bar chart for mice per drug regimen using Pandas\n",
    "mouse_data.plot(kind = 'bar')\n",
    "plt.xlabel('Drug Regimen')\n",
    "plt.ylabel('Number of Mice')\n",
    "plt.title('Number of Mice per Drug Regimen')\n",
    "plt.xticks(rotation=45)\n",
    "plt.ylim(0, 250)"
   ]
  },
  {
   "cell_type": "code",
   "execution_count": 26,
   "metadata": {},
   "outputs": [
    {
     "data": {
      "text/plain": [
       "(0.0, 250.0)"
      ]
     },
     "execution_count": 26,
     "metadata": {},
     "output_type": "execute_result"
    },
    {
     "data": {
      "image/png": "[encoded data removed]",
      "text/plain": [
       "<Figure size 432x288 with 1 Axes>"
      ]
     },
     "metadata": {
      "needs_background": "light"
     },
     "output_type": "display_data"
    }
   ],
   "source": [
    "#bar chart for mice per drug regimen using Matplotlib\n",
    "plt.bar(mouse_data.index, mouse_data['Mouse ID'])\n",
    "plt.xlabel('Drug Regimen')\n",
    "plt.ylabel('Number of Mice')\n",
    "plt.title('Number of Mice per Drug Regimen')\n",
    "plt.xticks(rotation=45)\n",
    "plt.ylim(0, 250)"
   ]
  },
  {
   "cell_type": "code",
   "execution_count": 18,
   "metadata": {},
   "outputs": [
    {
     "data": {
      "text/plain": [
       "Text(0.5, 1.0, 'Male vs. Female Mice Studied')"
      ]
     },
     "execution_count": 18,
     "metadata": {},
     "output_type": "execute_result"
    },
    {
     "data": {
      "image/png": "[encoded data removed]",
      "text/plain": [
       "<Figure size 432x288 with 1 Axes>"
      ]
     },
     "metadata": {},
     "output_type": "display_data"
    }
   ],
   "source": [
    "#isolating gender data\n",
    "gender_data = merged_data.drop(['Tumor Volume (mm3)', 'Timepoint', 'Metastatic Sites', 'Age_months', 'Mouse ID', 'Weight (g)', 'Drug Regimen'], axis = 1)\n",
    "gender_data = gender_data['Sex'].value_counts()\n",
    "gender_data\n",
    "\n",
    "#pie plots using Pandas\n",
    "gender_data.plot(kind = 'pie')\n",
    "plt.title('Male vs. Female Mice Studied')"
   ]
  },
  {
   "cell_type": "code",
   "execution_count": 17,
   "metadata": {},
   "outputs": [
    {
     "data": {
      "text/plain": [
       "Text(0.5, 1.0, 'Male vs. Female Mice Studied')"
      ]
     },
     "execution_count": 17,
     "metadata": {},
     "output_type": "execute_result"
    },
    {
     "data": {
      "image/png": "[encoded data removed]",
      "text/plain": [
       "<Figure size 432x288 with 1 Axes>"
      ]
     },
     "metadata": {},
     "output_type": "display_data"
    }
   ],
   "source": [
    "#pie plots using Matplotlib\n",
    "plt.pie(gender_data, labels = ['Male', 'Female'], colors = ['blue', 'red'])\n",
    "plt.title('Male vs. Female Mice Studied')"
   ]
  },
  {
   "cell_type": "code",
   "execution_count": 63,
   "metadata": {},
   "outputs": [
    {
     "name": "stdout",
     "output_type": "stream",
     "text": [
      "                       Tumor Volume (mm3)\n",
      "Drug Regimen Mouse ID                    \n",
      "Capomulin    b128               38.982878\n",
      "             b742               38.939633\n",
      "             f966               30.485985\n",
      "             g288               37.074024\n",
      "             g316               40.159220\n",
      "...                                   ...\n",
      "Ramicane     s508               30.276232\n",
      "             u196               40.667713\n",
      "             w678               43.166373\n",
      "             y449               44.183451\n",
      "             z578               30.638696\n",
      "\n",
      "[100 rows x 1 columns]\n",
      "Q1: 37.187743802499995\n",
      "Q2: 45.0\n",
      "Q3: 59.930261755000004\n",
      "IQR: 22.74251795250001\n",
      "Lower Bound: 3.0739668737499812\n",
      "Upper Bound: 94.04403868375002\n"
     ]
    },
    {
     "data": {
      "text/plain": [
       "[]"
      ]
     },
     "execution_count": 63,
     "metadata": {},
     "output_type": "execute_result"
    }
   ],
   "source": [
    "#tumor volume of each mouse across Capomulin, Ramicane, Infubinol, and Ceftamin\n",
    "final_volume_data = merged_data.drop(['Metastatic Sites', 'Age_months', 'Sex', 'Weight (g)'], axis = 1)\n",
    "final_volume_data.drop(final_volume_data.index[final_volume_data['Drug Regimen'] == 'Placebo'], inplace = True)\n",
    "final_volume_data.drop(final_volume_data.index[final_volume_data['Drug Regimen'] == 'Stelasyn'], inplace = True)\n",
    "final_volume_data.drop(final_volume_data.index[final_volume_data['Drug Regimen'] == 'Zoniferol'], inplace = True)\n",
    "final_volume_data.drop(final_volume_data.index[final_volume_data['Drug Regimen'] == 'Ketapril'], inplace = True)\n",
    "final_volume_data.drop(final_volume_data.index[final_volume_data['Drug Regimen'] == 'Propriva'], inplace = True)\n",
    "final_volume_data.drop(final_volume_data.index[final_volume_data['Drug Regimen'] == 'Naftisol'], inplace = True)\n",
    "final_volume_data = final_volume_data.groupby(['Drug Regimen', 'Mouse ID']).last()\n",
    "del final_volume_data['Timepoint']\n",
    "print(final_volume_data)\n",
    "\n",
    "#quartiles and IQRs, determine outliers\n",
    "quartile1 = float(final_volume_data.quantile(q = 0.25))\n",
    "quartile2 = float(final_volume_data.quantile(q = 0.5))\n",
    "quartile3 = float(final_volume_data.quantile(q = 0.75))\n",
    "iqr = quartile3 - quartile1\n",
    "lower_bound = quartile1 - (iqr * 1.5)\n",
    "upper_bound = quartile3 + (iqr * 1.5)\n",
    "\n",
    "print('Q1:', quartile1)\n",
    "print('Q2:', quartile2)\n",
    "print('Q3:', quartile3)\n",
    "print('IQR:', iqr)\n",
    "print('Lower Bound:', lower_bound)\n",
    "print('Upper Bound:', upper_bound)\n",
    "\n",
    "#Outliers\n",
    "outlier =[] \n",
    "for x in final_volume_data['Tumor Volume (mm3)']: \n",
    "    if (x > upper_bound) or (x < lower_bound): \n",
    "         outlier.append(x) \n",
    "outlier"
   ]
  },
  {
   "cell_type": "code",
   "execution_count": 69,
   "metadata": {},
   "outputs": [
    {
     "data": {
      "text/plain": [
       "Text(0.5, 0.98, '')"
      ]
     },
     "execution_count": 69,
     "metadata": {},
     "output_type": "execute_result"
    },
    {
     "data": {
      "image/png": "[encoded data removed]",
      "text/plain": [
       "<Figure size 432x288 with 1 Axes>"
      ]
     },
     "metadata": {
      "needs_background": "light"
     },
     "output_type": "display_data"
    }
   ],
   "source": [
    "#box and whisker plot of above data\n",
    "final_volume_data.boxplot(column = 'Tumor Volume (mm3)', by = 'Drug Regimen')\n",
    "plt.ylabel('Tumor Volume (mm3)')\n",
    "plt.title('Drug Regimen for Final Tumor Volumes')\n",
    "plt.suptitle(\"\")"
   ]
  },
  {
   "cell_type": "code",
   "execution_count": 46,
   "metadata": {},
   "outputs": [
    {
     "data": {
      "text/plain": [
       "Text(0.5, 1.0, 'Mouse b128 Average Tumor Volume over Time')"
      ]
     },
     "execution_count": 46,
     "metadata": {},
     "output_type": "execute_result"
    },
    {
     "data": {
      "image/png": "[encoded data removed]",
      "text/plain": [
       "<Figure size 432x288 with 1 Axes>"
      ]
     },
     "metadata": {
      "needs_background": "light"
     },
     "output_type": "display_data"
    }
   ],
   "source": [
    "#muning dataframe\n",
    "capMice = merged_data.drop(['Metastatic Sites', 'Age_months', 'Sex'], axis = 1)\n",
    "capMice.drop(capMice.index[capMice['Drug Regimen'] != 'Capomulin'], inplace = True)\n",
    "\n",
    "#isolating single Capomulin mouse\n",
    "capMouse = capMice.drop(capMice.index[11:])\n",
    "capMouse.drop(capMouse.tail(1).index,inplace=True)\n",
    "\n",
    "#defining axis\n",
    "x_axis = capMouse['Timepoint']\n",
    "y_axis = capMouse['Tumor Volume (mm3)']\n",
    "\n",
    "#line plot for a Capomulin mouse, volume vs. time\n",
    "plt.plot(x_axis, y_axis)\n",
    "\n",
    "#plot formatting\n",
    "plt.xlabel('Timepoint')\n",
    "plt.ylabel('Tumor Volume (mm3)')\n",
    "plt.title('Mouse b128 Average Tumor Volume over Time')"
   ]
  },
  {
   "cell_type": "code",
   "execution_count": 40,
   "metadata": {},
   "outputs": [
    {
     "data": {
      "text/plain": [
       "(0.0, 50.0)"
      ]
     },
     "execution_count": 40,
     "metadata": {},
     "output_type": "execute_result"
    },
    {
     "data": {
      "image/png": "[encoded data removed]",
      "text/plain": [
       "<Figure size 432x288 with 1 Axes>"
      ]
     },
     "metadata": {
      "needs_background": "light"
     },
     "output_type": "display_data"
    }
   ],
   "source": [
    "#defining axis\n",
    "capmiceMean = capMice.groupby('Mouse ID').mean()\n",
    "capmiceMean = capmiceMean['Tumor Volume (mm3)']\n",
    "capmiceMean\n",
    "\n",
    "capmiceWeight = capMice.groupby('Mouse ID').max()\n",
    "capmiceWeight = capmiceWeight['Weight (g)']\n",
    "capmiceWeight\n",
    "\n",
    "#scatter plot for all Capomulin mice, weight vs. average tumor volume\n",
    "plt.scatter(capmiceWeight, capmiceMean)\n",
    "\n",
    "#calculate linear regression\n",
    "slope, intercept, r_value, p_value, std_err = st.linregress(capmiceWeight, capmiceMean)\n",
    "\n",
    "#plot above onto scatterplot\n",
    "plt.plot(capmiceWeight, intercept + slope * capmiceWeight, 'red')\n",
    "\n",
    "#plot formatting\n",
    "plt.xlabel('Mouse Weight')\n",
    "plt.ylabel('Average Tumor Volume (mm3)')\n",
    "plt.title('Capomulin Mice Weight vs. Average Tumor Volume')\n",
    "plt.xlim(14, 26)\n",
    "plt.ylim(0, 50)"
   ]
  },
  {
   "cell_type": "code",
   "execution_count": null,
   "metadata": {},
   "outputs": [],
   "source": []
  }
 ],
 "metadata": {
  "kernelspec": {
   "display_name": "Python 3",
   "language": "python",
   "name": "python3"
  },
  "language_info": {
   "codemirror_mode": {
    "name": "ipython",
    "version": 3
   },
   "file_extension": ".py",
   "mimetype": "text/x-python",
   "name": "python",
   "nbconvert_exporter": "python",
   "pygments_lexer": "ipython3",
   "version": "3.8.3"
  }
 },
 "nbformat": 4,
 "nbformat_minor": 4
}
